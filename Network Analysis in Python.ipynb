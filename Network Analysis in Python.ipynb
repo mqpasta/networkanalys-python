{
 "cells": [
  {
   "cell_type": "code",
   "execution_count": 1,
   "metadata": {},
   "outputs": [],
   "source": [
    "#setup\n",
    "import networkx as nx\n",
    "import matplotlib.pyplot as plt\n"
   ]
  },
  {
   "cell_type": "code",
   "execution_count": 2,
   "metadata": {},
   "outputs": [],
   "source": [
    "# read edge list\n",
    "g = nx.read_edgelist(\"edgelist.txt\")\n",
    "ug = nx.to_undirected(g)"
   ]
  },
  {
   "cell_type": "code",
   "execution_count": 3,
   "metadata": {},
   "outputs": [
    {
     "name": "stdout",
     "output_type": "stream",
     "text": [
      "Name: \n",
      "Type: Graph\n",
      "Number of nodes: 6\n",
      "Number of edges: 7\n",
      "Average degree:   2.3333\n"
     ]
    }
   ],
   "source": [
    "# print basic info (is the graph ok?)\n",
    "print(nx.info(ug))"
   ]
  },
  {
   "cell_type": "code",
   "execution_count": 4,
   "metadata": {},
   "outputs": [
    {
     "name": "stdout",
     "output_type": "stream",
     "text": [
      "number of noeds: 6\n",
      "number of edges: 7\n",
      "Diameter: 3\n"
     ]
    }
   ],
   "source": [
    "# basic analysis\n",
    "\n",
    "# number of nodes\n",
    "print(\"number of noeds:\",nx.number_of_nodes(ug))\n",
    "\n",
    "#number of edges\n",
    "print(\"number of edges:\",nx.number_of_edges(ug))\n",
    "\n",
    "#average clustering\n",
    "nx.average_clustering(ug)\n",
    "\n",
    "# diameter\n",
    "print(\"Diameter:\",nx.diameter(ug))\n",
    "# this diameter shows ...\n",
    "\n"
   ]
  },
  {
   "cell_type": "code",
   "execution_count": 8,
   "metadata": {},
   "outputs": [
    {
     "data": {
      "image/png": "[encoded data removed]",
      "text/plain": [
       "<Figure size 432x288 with 1 Axes>"
      ]
     },
     "metadata": {},
     "output_type": "display_data"
    }
   ],
   "source": [
    "options = {\n",
    "    'node_color': 'black',\n",
    "    'node_size': 50,\n",
    "    'line_color': 'grey',\n",
    "    'linewidths': 0,\n",
    "    'width': 0.1,\n",
    "}\n",
    "nx.draw(ug, **options)\n",
    "plt.savefig (\"simple_graph.png\")"
   ]
  },
  {
   "cell_type": "code",
   "execution_count": 6,
   "metadata": {},
   "outputs": [
    {
     "data": {
      "image/png": "[encoded data removed]",
      "text/plain": [
       "<Figure size 432x288 with 1 Axes>"
      ]
     },
     "metadata": {
      "needs_background": "light"
     },
     "output_type": "display_data"
    }
   ],
   "source": [
    "# taken from SNAP Tutorial\n",
    "def plot_degree_distribution (wiki) :\n",
    "    degs = {}\n",
    "    for n in wiki.nodes () :\n",
    "        deg = wiki.degree ( n )\n",
    "        \n",
    "        \n",
    "        if deg not in degs :\n",
    "            degs [ deg ] = 0\n",
    "        \n",
    "        degs [ deg ] += 1\n",
    "    items = sorted ( degs.items () )\n",
    "            \n",
    "    fig = plt.figure ()\n",
    "    ax = fig.add_subplot (111)\n",
    "    ax.plot ([ k for (k , v ) in items ] , [ v for (k ,v ) in items ])\n",
    "    ax.set_xscale('log')\n",
    "    ax.set_yscale('log')\n",
    "    plt.title(\"Degree Distribution\")\n",
    "    fig.savefig (\"degree_distribution.png\")\n",
    "    \n",
    "            \n",
    "plot_degree_distribution(ug)\n"
   ]
  },
  {
   "cell_type": "code",
   "execution_count": null,
   "metadata": {},
   "outputs": [],
   "source": []
  }
 ],
 "metadata": {
  "kernelspec": {
   "display_name": "Python 3",
   "language": "python",
   "name": "python3"
  },
  "language_info": {
   "codemirror_mode": {
    "name": "ipython",
    "version": 3
   },
   "file_extension": ".py",
   "mimetype": "text/x-python",
   "name": "python",
   "nbconvert_exporter": "python",
   "pygments_lexer": "ipython3",
   "version": "3.7.0"
  }
 },
 "nbformat": 4,
 "nbformat_minor": 2
}
